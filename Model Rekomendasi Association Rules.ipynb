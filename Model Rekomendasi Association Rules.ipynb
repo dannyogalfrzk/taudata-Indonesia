{
 "cells": [
  {
   "cell_type": "markdown",
   "metadata": {
    "slideshow": {
     "slide_type": "slide"
    }
   },
   "source": [
    "<center><img alt=\"\" src=\"images/Cover.jpg\"/></center> \n",
    "\n",
    "## <center><font color=\"blue\">Model Rekomendasi: Market Basket Analysis/Association Rule</font></center>\n",
    "\n",
    "<h2 id=\"(C)-Taufik-Sutanto---2019\" style=\"text-align: center;\">(C) Taufik Sutanto - 2019</h2>\n",
    "<h2 id=\"tau-data-Indonesia-~-https://tau-data.id\" style=\"text-align: center;\">tau-data Indonesia ~ <a href=\"https://tau-data.id\" target=\"_blank\"><span style=\"color: #0009ff;\">https://tau-data.id</span></a></h2>"
   ]
  },
  {
   "cell_type": "markdown",
   "metadata": {},
   "source": [
    "# Notes and Disclaimer\n",
    "\n",
    "* This notebook is part of the free (open knowledge) eLearning course at: https://tau-data.id/courses/data-mining/\n",
    "* Some images are taken from several resources, we respect those images ownerships and put a reference/citation from where it is originated. Nevertheless, sometimes we are having trouble to find the origin of the image(s). If you are the owner of the image and would like the image taken-out (or want the citation to be revised) from this open knowledge course resources please contact us here with the details: https://tau-data.id/contact/  \n",
    "* Unless stated otherwise, in general tau-data permit its resources to be copied and-or modified for non-commercial purposes. With condition proper acknowledgement/citation is given."
   ]
  },
  {
   "cell_type": "markdown",
   "metadata": {
    "slideshow": {
     "slide_type": "subslide"
    }
   },
   "source": [
    "## Outline:\n",
    "\n",
    "* Review Kuliah Sebelumnya\n",
    "* Pendahuluan AR/MBA secara singkat\n",
    "* Items dan Item Set (Contoh)\n",
    "* Definisi formal AR metrics\n",
    "* Aplikasi di Orange\n",
    "* Tantangan di AR\n",
    "* All Item Set (AIS) Algorithm\n",
    "* Apriori Algorithm"
   ]
  },
  {
   "cell_type": "markdown",
   "metadata": {
    "slideshow": {
     "slide_type": "subslide"
    }
   },
   "source": [
    "## Review:\n",
    "* Pengertian Data Mining: _Hubungan/perbedaan dengan Statistik? Apa ciri utamanya?_\n",
    "* Proses Data Mining: _(KDD, SEMMA, CRISP, CCC) Apa benang merahnya?_\n",
    "\n",
    "<p><img alt=\"\" src=\"images/data-mining-process.png\" /></p>\n",
    "\n",
    "image source: \n",
    "1. https://barnraisersllc.com/2018/10/data-mining-process-essential-steps/\n",
    "2. https://www.dragon1.com/terms/data-mining-definition"
   ]
  },
  {
   "cell_type": "markdown",
   "metadata": {
    "slideshow": {
     "slide_type": "subslide"
    }
   },
   "source": [
    "<h1 id=\"Tipe-tipe-Data\">Tipe-tipe Data</h1>\n",
    "\n",
    "<p><img alt=\"\" src=\"images/data_types.gif\" /></p>"
   ]
  },
  {
   "cell_type": "markdown",
   "metadata": {
    "slideshow": {
     "slide_type": "subslide"
    }
   },
   "source": [
    "<h2 id=\"Secara-Umum\">Secara Umum</h2>\n",
    "\n",
    "<p><img alt=\"\" src=\"images/dataScience_models.gif\"/></p>\n",
    "\n",
    "<p>Yang tidak dibahas di MK Data Mining:&nbsp;data tersensor (Survival Analysis),&nbsp;Bayesian approaches,&nbsp;Semi-Supervised, Fuzzy, etc.</p>\n"
   ]
  },
  {
   "cell_type": "markdown",
   "metadata": {},
   "source": [
    "## Association Rules ~ Market Basket Analysis\n",
    "<img alt=\"\" src=\"images/10_Rec_0.JPG\" style=\"width: 600px; height: 500px;\" />\n",
    "\n",
    "image Source: \n",
    "https://www.kdnuggets.com/2018/07/minimum-viable-data-product.html"
   ]
  },
  {
   "cell_type": "markdown",
   "metadata": {},
   "source": [
    "<p><img alt=\"\" src=\"images/mba.jpg\" style=\"width: 480px; height: 360px;\" /></p>\n",
    "\n",
    "image source: https://www.youtube.com/watch?v=VZL6uhA8XKg"
   ]
  },
  {
   "cell_type": "markdown",
   "metadata": {},
   "source": [
    "<p><img alt=\"\" src=\"images/10_Rec.png\" style=\"height:400px; width:351px\" /></p>\n",
    "\n",
    "Image Source: Noor Ifada, Trunojoyo University"
   ]
  },
  {
   "cell_type": "markdown",
   "metadata": {},
   "source": [
    "<p><img alt=\"\" src=\"images/10_Rec_3.png\" style=\"height:300px; width:490px\" /></p>\n",
    "\n",
    "Image Source: \n",
    "https://www.themarketingtechnologist.co/building-a-recommendation-engine-for-geek-setting-up-the-prerequisites-13/"
   ]
  },
  {
   "cell_type": "markdown",
   "metadata": {},
   "source": [
    "<p><img alt=\"\" src=\"images/10_Rec_1.JPG\" style=\"width: 600px; height: 444px;\" /></p>\n",
    "\n",
    "Image Source: https://www.semanticscholar.org/paper/Collaborative-Filtering-and-Artificial-Neural-Based-Mylavarapu/a2a9f263172691fc66a4c8bc1d44dd4df77c347c"
   ]
  },
  {
   "cell_type": "markdown",
   "metadata": {},
   "source": [
    "<h2 id=\"Association-Analysis-(AA)\">Association Analysis (AA)</h2>\n",
    "\n",
    "<ul>\n",
    "\t<li>Mencari hubungan (links) antar variabel menurut himpunan records di data</li>\n",
    "\t<li>Links ini disebut sebagai asosiasi (<strong>ASSOCIATION</strong>).</li>\n",
    "\t<li>\n",
    "\t<p>Tiga tipe permasalahan asosiasi:</p>\n",
    "\t</li>\n",
    "</ul>\n",
    "\n",
    "<ol>\n",
    "\t<li>\n",
    "\t<p>Association discovery (tidak terurut - yang akan dibahas di kuliah ini)</p>\n",
    "\t</li>\n",
    "\t<li>Sequential pattern discovery (terurut - tidak dibahas)</li>\n",
    "\t<li>Similar time discovery (ada informasi waktu - misal log analysis)</li>\n",
    "</ol>\n"
   ]
  },
  {
   "cell_type": "markdown",
   "metadata": {},
   "source": [
    "<h2 id=\"Kenapa-AA-penting-di-Data-Mining?\">Kenapa AA penting di Data Mining?</h2>\n",
    "<ol>\n",
    "<li>\n",
    "<p>Market Basket data analysis, cross-marketing, catalog design, sale campaign analysis</p>\n",
    "</li>\n",
    "<li>Web log (click stream) analysis, DNA sequence analysis, etc.</li>\n",
    "</ol>\n",
    "\n",
    "<p><img alt=\"\" src=\"images/ecommerce.jpg\" /></p>\n",
    "\n",
    "Image Source: \n",
    "1. https://www.liputan6.com/tekno/read/2586238/pasar-online-indonesia-kian-tumbuh-ecommerce-berjaya\n",
    "2. https://ginbusiness.wordpress.com/2016/02/27/jenis-e-commerce-di-indonesia/"
   ]
  },
  {
   "cell_type": "markdown",
   "metadata": {},
   "source": [
    "<h2 id=\"Association-Rules-(AR)-dalam-satu-paragraph\">Association Rules (AR) dalam satu paragraph</h2>\n",
    "\n",
    "<p>AR berusaha menemukan semua himpunan <strong>ITEM </strong>(<strong>ITEMSETS</strong>) yang memiliki <strong>SUPPORT </strong>lebih besar dari <strong>MINIMUM SUPPORT</strong>, kemudian menggunakan itemsets yang signifikan untuk menghasilkan <strong>RULES </strong>yang memiliki <strong>CONFIDENCE </strong>lebih besar dari suatu <strong>MINIMUM CONFIDENCE</strong>. Rules ini akan dinilai berharga (signifikan) berdasarkan nilai <strong>LIFT</strong>-nya. Aplikasi paling populer AR adalah <strong>Market Basket Analysis</strong> (MBA).</p>\n"
   ]
  },
  {
   "cell_type": "markdown",
   "metadata": {},
   "source": [
    "<h2 id=\"Items-dan-Itemsets\">Items dan Itemsets</h2>\n",
    "\n",
    "<ul>\n",
    "\t<li>Data AR berbentuk &quot;transaksi&quot;: himpunan itemsets yang masing-masing elemen himpunannya adalah items</li>\n",
    "\t<li>Items: Bread, Milk, Coke, dll</li>\n",
    "\t<li>Itemset: {Bread, Milk}</li>\n",
    "\t<li>Contoh transaksi pada suatu hari di sebuah toko:</li>\n",
    "</ul>\n",
    "\n",
    "<table>\n",
    "\t<thead>\n",
    "\t\t<tr>\n",
    "\t\t\t<th>TID</th>\n",
    "\t\t\t<th>Items</th>\n",
    "\t\t</tr>\n",
    "\t</thead>\n",
    "\t<tbody>\n",
    "\t\t<tr>\n",
    "\t\t\t<td>1</td>\n",
    "\t\t\t<td>Bread, Milk</td>\n",
    "\t\t</tr>\n",
    "\t\t<tr>\n",
    "\t\t\t<td>2</td>\n",
    "\t\t\t<td>Bread, Diaper, Beer, Eggs</td>\n",
    "\t\t</tr>\n",
    "\t\t<tr>\n",
    "\t\t\t<td>3</td>\n",
    "\t\t\t<td>Milk, Diaper, Beer, Coke</td>\n",
    "\t\t</tr>\n",
    "\t\t<tr>\n",
    "\t\t\t<td>4</td>\n",
    "\t\t\t<td>Bread, Milk, Diaper, Beer</td>\n",
    "\t\t</tr>\n",
    "\t\t<tr>\n",
    "\t\t\t<td>4</td>\n",
    "\t\t\t<td>Bread, Milk, Diaper, Coke</td>\n",
    "\t\t</tr>\n",
    "\t</tbody>\n",
    "</table>\n"
   ]
  },
  {
   "cell_type": "markdown",
   "metadata": {},
   "source": [
    "## Example Rule: Barbie® ==> Candy\n",
    "Rules are used in many marketing decisions such as:\n",
    "* Put them closer together in the store.\n",
    "* Put them far apart in the store.\n",
    "* Package candy bars with the dolls.\n",
    "* Package Barbie + candy + poorly selling item.\n",
    "* Raise the price on one, lower it on the other.\n",
    "* Barbie accessories for proofs of purchase.\n",
    "* Do not advertise candy and Barbie together.\n",
    "* Offer candies in the shape of a Barbie Doll."
   ]
  },
  {
   "cell_type": "markdown",
   "metadata": {},
   "source": [
    "<p><img alt=\"\" src=\"images/mba_knowledge_decisions.png\" style=\"width: 600px; height: 307px;\" /></p>\n"
   ]
  },
  {
   "cell_type": "markdown",
   "metadata": {},
   "source": [
    "<h2 id=\"Secara-Formal-(Teori-AR-dalam-satu-slide)\">Secara Formal (Ringkasan Teori AR)</h2>\n",
    "<ul>\n",
    "<li><strong>Item </strong>adalah elemen himpunan dari data, contoh:&nbsp;<span class=\"MathJax_Preview\" style=\"color: inherit;\"><span id=\"MJXp-Span-991\" class=\"MJXp-math\"><span id=\"MJXp-Span-993\" class=\"MJXp-mtext\">Milk</span><span id=\"MJXp-Span-994\" class=\"MJXp-mo\" style=\"margin-left: 0em; margin-right: 0.222em;\">,</span><span id=\"MJXp-Span-995\" class=\"MJXp-mtext\">Bread</span><span id=\"MJXp-Span-996\" class=\"MJXp-mo\" style=\"margin-left: 0em; margin-right: 0.222em;\">,</span><span id=\"MJXp-Span-997\" class=\"MJXp-mtext\">Eggs</span></span></span></li>\n",
    "<li><strong>Itemset </strong>adalah kemungkinan subset yang dibentuk dari item, contoh:&nbsp; <span class=\"MathJax_Preview\" style=\"color: inherit;\"><span id=\"MJXp-Span-991\" class=\"MJXp-math\"><span id=\"MJXp-Span-992\" class=\"MJXp-mo\" style=\"margin-left: 0em; margin-right: 0em;\">{</span><span id=\"MJXp-Span-993\" class=\"MJXp-mtext\">Milk</span><span id=\"MJXp-Span-994\" class=\"MJXp-mo\" style=\"margin-left: 0em; margin-right: 0.222em;\">,</span><span id=\"MJXp-Span-995\" class=\"MJXp-mtext\">Bread</span><span id=\"MJXp-Span-996\" class=\"MJXp-mo\" style=\"margin-left: 0em; margin-right: 0.222em;\">,</span><span id=\"MJXp-Span-997\" class=\"MJXp-mtext\">Eggs</span><span id=\"MJXp-Span-998\" class=\"MJXp-mo\" style=\"margin-left: 0em; margin-right: 0em;\">} atau {Milk, Eggs}</span></span></span>.</li>\n",
    "<li>Frekuensi kemunculan item atau itemset dalam data disebut <strong>Support</strong>:</li>\n",
    "<li>Jika support &gt; dari suatu nilai ambang (threshold) maka itemset tersebut disebut&nbsp;<strong><em>frequent itemset</em></strong>.</li>\n",
    "<li>Sebuah <strong>Rule </strong>berbentuk&nbsp;<span class=\"MathJax_Preview\" style=\"color: inherit;\"><span id=\"MJXp-Span-1033\" class=\"MJXp-math\"><span id=\"MJXp-Span-1034\" class=\"MJXp-mi MJXp-italic\">X</span><span id=\"MJXp-Span-1035\" class=\"MJXp-mo\" style=\"margin-left: 0.333em; margin-right: 0.333em;\">&rArr;</span><span id=\"MJXp-Span-1036\" class=\"MJXp-mi MJXp-italic\">Y</span></span></span> dimana&nbsp;<span class=\"MathJax_Preview\" style=\"color: inherit;\"><span id=\"MJXp-Span-1037\" class=\"MJXp-math\"><span id=\"MJXp-Span-1038\" class=\"MJXp-mi MJXp-italic\">X</span></span></span>&nbsp;(Antecedent) dan&nbsp;<span class=\"MathJax_Preview\" style=\"color: inherit;\"><span id=\"MJXp-Span-1039\" class=\"MJXp-math\"><span id=\"MJXp-Span-1040\" class=\"MJXp-mi MJXp-italic\">Y</span></span></span>&nbsp;(Consequent) adalah&nbsp;itemsets. Contoh:</li>\n",
    "<li><span class=\"MathJax_Preview\" style=\"color: inherit;\"><span id=\"MJXp-Span-1041\" class=\"MJXp-math MJXp-display\"><span id=\"MJXp-Span-1042\" class=\"MJXp-mo\" style=\"margin-left: 0em; margin-right: 0em;\">{</span><span id=\"MJXp-Span-1043\" class=\"MJXp-mtext\">Milk</span><span id=\"MJXp-Span-1044\" class=\"MJXp-mo\" style=\"margin-left: 0em; margin-right: 0.222em;\">,</span><span id=\"MJXp-Span-1045\" class=\"MJXp-mtext\">Diaper</span><span id=\"MJXp-Span-1046\" class=\"MJXp-mo\" style=\"margin-left: 0em; margin-right: 0em;\">}</span><span id=\"MJXp-Span-1047\" class=\"MJXp-mo\" style=\"margin-left: 0.333em; margin-right: 0.333em;\">&rArr;</span><span id=\"MJXp-Span-1048\" class=\"MJXp-mo\" style=\"margin-left: 0em; margin-right: 0em;\">{</span><span id=\"MJXp-Span-1049\" class=\"MJXp-mtext\">Beer</span><span id=\"MJXp-Span-1050\" class=\"MJXp-mo\" style=\"margin-left: 0em; margin-right: 0em;\">}</span></span></span></li>\n",
    "<li>S<em>upport</em> dari sebuah rule adalah banyaknya transaksi yang memuat X dan Y.</li>\n",
    "<li><span class=\"MathJax_Preview\" style=\"color: inherit;\"><span id=\"MJXp-Span-1055\" class=\"MJXp-math MJXp-display\"><span id=\"MJXp-Span-1056\" class=\"MJXp-mi MJXp-italic\">s</span><span id=\"MJXp-Span-1057\" class=\"MJXp-mo\" style=\"margin-left: 0em; margin-right: 0em;\">(</span><span id=\"MJXp-Span-1058\" class=\"MJXp-mi MJXp-italic\">X</span><span id=\"MJXp-Span-1059\" class=\"MJXp-mo\" style=\"margin-left: 0.333em; margin-right: 0.333em;\">&rArr;</span><span id=\"MJXp-Span-1060\" class=\"MJXp-mi MJXp-italic\">Y</span><span id=\"MJXp-Span-1061\" class=\"MJXp-mo\" style=\"margin-left: 0em; margin-right: 0em;\">)</span><span id=\"MJXp-Span-1062\" class=\"MJXp-mo\" style=\"margin-left: 0.333em; margin-right: 0.333em;\">=</span><span id=\"MJXp-Span-1063\" class=\"MJXp-mi MJXp-italic\">s</span><span id=\"MJXp-Span-1064\" class=\"MJXp-mo\" style=\"margin-left: 0em; margin-right: 0em;\">(</span><span id=\"MJXp-Span-1065\" class=\"MJXp-mi MJXp-italic\">X</span><span id=\"MJXp-Span-1066\" class=\"MJXp-mo\" style=\"margin-left: 0.267em; margin-right: 0.267em;\">&cup;</span><span id=\"MJXp-Span-1067\" class=\"MJXp-mi MJXp-italic\">Y</span><span id=\"MJXp-Span-1068\" class=\"MJXp-mo\" style=\"margin-left: 0em; margin-right: 0em;\">)</span></span></span></li>\n",
    "<li>Dalam association rule mining, kita ingin mencari Rules yang memiliki&nbsp;&nbsp;<em>support</em> and <em>confidence </em>yang signifikan.&nbsp;</li>\n",
    "<li>Nilai <em>expected confidence tak bersyarat&nbsp;</em>di AR disebut juga sebagai \"lift:\"</li>\n",
    "<li>Lift&lt;1 dianggap \"negatif\" (less than expected)<br />Lift = 1 : netral</li>\n",
    "<li>[\"lift\"] S. Brin, R. Motwani, J. D. Ullman, and S. Tsur. Dynamic itemset counting and implication rules for market basket data</li>\n",
    "</ul>"
   ]
  },
  {
   "cell_type": "markdown",
   "metadata": {},
   "source": [
    "<h2 id=\"Rule,-Support,-Confidence,-Lift-by-Example\">Rule, Support, Confidence, Lift by Example</h2>\n",
    "\n",
    "<p><img alt=\"\" src=\"images/Rule_Lift_Support_Confidence.png\" style=\"width: 300px ; height: 181px\" /></p>\n",
    "\n",
    "<p><img alt=\"\" src=\"images/Rule_Lift_Support_Confidence_example.png\" style=\"width: 300px; height: 222px;\" /></p>\n",
    "\n",
    "Image Source: http://www.saedsayad.com/association_rules.htm"
   ]
  },
  {
   "cell_type": "markdown",
   "metadata": {},
   "source": [
    "<p><img alt=\"\" src=\"images/support.png\" style=\"width: 600px; height: 253px;\" /></p>\n"
   ]
  },
  {
   "cell_type": "markdown",
   "metadata": {},
   "source": [
    "<p><img alt=\"\" src=\"images/confidence.png\" style=\"width: 600px; height: 332px;\" /></p>\n"
   ]
  },
  {
   "cell_type": "markdown",
   "metadata": {},
   "source": [
    "# Lifts\n",
    "\n",
    "The lift metric is commonly used to measure how much more often the antecedent and consequent of a rule A->C occur together than we would expect if they were statistically independent. If A and C are independent, the Lift score will be exactly 1."
   ]
  },
  {
   "cell_type": "markdown",
   "metadata": {},
   "source": [
    "<h2 id=\"Leverage\">Leverage</h2>\n",
    "\n",
    "<p>Leverage computes the difference between the observed frequency of A and C appearing together and the frequency that would be expected if A and C were independent. An leverage value of 0 indicates independence.</p>\n",
    "\n",
    "<p><img alt=\"\" src=\"images/levarage.png\" style=\"width: 600px ; height: 28px\" /></p>\n",
    "\n",
    "<p>[5] Piatetsky-Shapiro, G., Discovery, analysis, and presentation of strong rules. Knowledge Discovery in Databases, 1991: p. 229-248.</p>\n"
   ]
  },
  {
   "cell_type": "markdown",
   "metadata": {},
   "source": [
    "<p><img src=\"images/Association_Rules_Metrics.png\" alt=\"\" /></p>\n",
    "<p class=\"MsoNormal\"><span style=\"mso-ansi-language: EN-US;\">Nicely summarized in </span><span lang=\"IN\"><a href=\"http://rasbt.github.io/mlxtend/user_guide/frequent_patterns/association_rules/\">http://rasbt.github.io/mlxtend/user_guide/frequent_patterns/association_rules/</a></span></p>"
   ]
  },
  {
   "cell_type": "markdown",
   "metadata": {},
   "source": [
    "<p><img alt=\"\" src=\"images/interesting_rules.png\" style=\"width: 600px; height: 280px;\" /></p>\n"
   ]
  },
  {
   "cell_type": "markdown",
   "metadata": {},
   "source": [
    "Apriori Principle\n",
    "-----------------\n",
    "\n",
    "You know, given that $A \\subseteq B$, then $C \\subseteq B$ as well if $C \\subseteq B$.\n",
    "It is also obvious that if $A \\subseteq B$, $s(A) \\geq s(B)$, since every item in $A$ also appear in $B$.\n",
    "\n",
    "Apriori priciple says:\n",
    "_\"If an itemset is frequent, then all of its subsets must also be frequent.\"_\n",
    "\n",
    "From that, we know that if an itemset is _infrequent_, all its supersets are also infrequent."
   ]
  },
  {
   "cell_type": "markdown",
   "metadata": {},
   "source": [
    "<h2 id=\"AIS-Algorithm\">AIS Algorithm</h2>\n",
    "\n",
    "<ul>\n",
    "\t<li>Candidate itemsets are generated and counted on-the-fly as the database is scanned.</li>\n",
    "\t<li>For each transaction, it is determined which of the large itemsets of the previous pass are contained in this transaction.</li>\n",
    "\t<li>New candidate itemsets are generated by extending these large itemsets with other items in this transaction.</li>\n",
    "</ul>\n",
    "\n",
    "<p><img alt=\"\" src=\"images/AIS.png\" style=\"width: 600px; height: 347px;\" /></p>\n",
    "* The disadvantage of the AIS algorithm is that it results in unnecessarily generating and counting too many candidate itemsets that turn out to be small."
   ]
  },
  {
   "cell_type": "markdown",
   "metadata": {},
   "source": [
    "<p><img alt=\"\" src=\"images/min_support.png\" style=\"width: 600px; height: 434px;\" /></p>\n"
   ]
  },
  {
   "cell_type": "markdown",
   "metadata": {},
   "source": [
    "<h2 id=\"Algoritma-Apriori\">Algoritma Apriori</h2>\n",
    "\n",
    "<ol>\n",
    "\t<li><font face=\"Calibri\">Candidate itemsets are generated using only the large itemsets of the previous pass without considering the transactions in the database.</font></li>\n",
    "\t<li><font face=\"Calibri\">The large itemset of the previous pass is joined with itself to generate all itemsets whose size is higher by 1.</font></li>\n",
    "\t<li><font face=\"Calibri\">Each generated itemset that has a subset which is not large is deleted. The remaining itemsets are the candidate ones.</font></li>\n",
    "</ol>\n",
    "\n",
    "<p><font face=\"Calibri\"><img alt=\"\" src=\"images/Apriori_Alg.png\" style=\"width: 600px; height: 379px;\" /></font></p>\n",
    "\n",
    "Image Source: http://www.saedsayad.com/association_rules.htm"
   ]
  },
  {
   "cell_type": "markdown",
   "metadata": {},
   "source": [
    "## Algoritma Lain:\n",
    "* SETM Algorithm\n",
    "* AprioriTid Algorithm\n",
    "* AprioriHybrid Algorithm\n",
    "* dsb"
   ]
  },
  {
   "cell_type": "markdown",
   "metadata": {},
   "source": [
    "## Diskusi:\n",
    "* Barang di toko terlalu banyak macamnya ==> how to deal with it?\n",
    "* AR inferential? Seberapa sering rule di generate?"
   ]
  },
  {
   "cell_type": "markdown",
   "metadata": {},
   "source": [
    "<h2 id=\"Referensi:\">Referensi:</h2>\n",
    "\n",
    "<dl>\n",
    "\t<dt>[1]: J. Han, J. Pei, Y. Yin, R. Mao.</dt>\n",
    "\t<dd>Mining Frequent Patterns without Candidate Generation: A Frequent-Pattern Tree Approach. 2004.<a href=\"https://www.cs.sfu.ca/~jpei/publications/dami03_fpgrowth.pdf\">https://www.cs.sfu.ca/~jpei/publications/dami03_fpgrowth.pdf</a></dd>\n",
    "\t<dt>[2]: R. Agrawal, C. Aggarwal, V. Prasad.</dt>\n",
    "\t<dd>Depth first generation of long patterns. 2000.&nbsp;<a href=\"http://www.cs.tau.ac.il/~fiat/dmsem03/Depth%20First%20Generation%20of%20Long%20Patterns%20-%202000.pdf\">http://www.cs.tau.ac.il/~fiat/dmsem03/Depth%20First%20Generation%20of%20Long%20Patterns%20-%202000.pdf</a></dd>\n",
    "\t<dt>[3]: R. Agrawal, et al.</dt>\n",
    "\t<dd>Fast Discovery of Association Rules. 1996.&nbsp;<a href=\"http://cs-people.bu.edu/evimaria/cs565/advances.pdf\">http://cs-people.bu.edu/evimaria/cs565/advances.pdf</a></dd>\n",
    "</dl>\n"
   ]
  },
  {
   "cell_type": "markdown",
   "metadata": {},
   "source": [
    "<p>Beberapa Modul rekomendasi Python:&nbsp;</p>\n",
    "<ul>\n",
    "<li><strong><a href=\"http://muricoca.github.io/crab/\" target=\"_blank\" rel=\"noopener\">Crab (discontinued)</a></strong>.&nbsp;</li>\n",
    "<li><a href=\"https://github.com/NicolasHug/Surprise\" target=\"_blank\" rel=\"noopener\">Surprise</a></li>\n",
    "<li><a href=\"https://github.com/ocelma/python-recsys\" target=\"_blank\" rel=\"noopener\">Python Recsys (discontinued/very Old)</a></li>\n",
    "<li><a href=\"https://github.com/Mendeley/mrec\" target=\"_blank\" rel=\"noopener\">MRec (discontinued)</a></li>\n",
    "<li><a href=\"http://rasbt.github.io/mlxtend/\" target=\"_blank\" rel=\"noopener\">mlxtend (very limited documentationdocumentation)</a></li>\n",
    "</ul>\n",
    "<p>Kita akan mencoba juga <a href=\"http://orange.biolab.si/\" target=\"_blank\" rel=\"noopener\"><b>Orange</b></a>: Python GUI untuk  Data Mining.</p>\n",
    "\n",
    "<p><img alt=\"\" src=\"images/orange_screenShot.png\" /></p>\n",
    "\n",
    "Image Source: http://gp.mx.tl/oranged-net-software"
   ]
  },
  {
   "cell_type": "markdown",
   "metadata": {
    "slideshow": {
     "slide_type": "subslide"
    }
   },
   "source": [
    "## Add-ons di Orange\n",
    "* Installing Add-Ons \"Associate\" di Orange\n",
    "* **pip install orange3**\n",
    "* **python -m Orange.canvas** (Create shortcut with this command)\n",
    "* Install the add-on\n",
    "* http://orange3-associate.readthedocs.org/"
   ]
  },
  {
   "cell_type": "markdown",
   "metadata": {
    "slideshow": {
     "slide_type": "subslide"
    }
   },
   "source": [
    "<h3 id=\"File-data-CSV/XLS(X)-di-Orange-(3-Headers-Format)\">File data CSV/XLS(X) di Orange (3 Headers Format)</h3>\n",
    "\n",
    "<p><big><strong>[1]. Feature Names</strong></big> (Nama variabel).</p>\n",
    "\n",
    "<p><big><strong>[2]. Feature types</strong></big>&nbsp;on the second line. The type is determined automatically, or, if set, can be any of the following:</p>\n",
    "\n",
    "<ul>\n",
    "\t<li><code>discrete</code>&nbsp;(or&nbsp;<code>d</code>) &mdash; imported as&nbsp;<a href=\"https://docs.orange.biolab.si/3/data-mining-library/reference/data.variable.html#Orange.data.DiscreteVariable\" target=\"_blank\" title=\"Orange.data.DiscreteVariable\"><code>Orange.data.DiscreteVariable</code></a>,</li>\n",
    "\t<li>a space-separated&nbsp;<strong>list of discrete values</strong>, like &ldquo;<code>male&nbsp;female</code>&rdquo;, which will result in&nbsp;<a href=\"https://docs.orange.biolab.si/3/data-mining-library/reference/data.variable.html#Orange.data.DiscreteVariable\" target=\"_blank\" title=\"Orange.data.DiscreteVariable\"><code>Orange.data.DiscreteVariable</code></a>&nbsp;with those values and in that order. If the individual values contain a space character, it needs to be escaped (prefixed) with, as common, a backslash (&lsquo;&#39;) character.</li>\n",
    "\t<li><code>continuous</code>&nbsp;(or&nbsp;<code>c</code>) &mdash; imported as&nbsp;<a href=\"https://docs.orange.biolab.si/3/data-mining-library/reference/data.variable.html#Orange.data.ContinuousVariable\" target=\"_blank\" title=\"Orange.data.ContinuousVariable\"><code>Orange.data.ContinuousVariable</code></a>,</li>\n",
    "\t<li><code>string</code>&nbsp;(or&nbsp;<code>s</code>, or&nbsp;<code>text</code>) &mdash; imported as&nbsp;<a href=\"https://docs.orange.biolab.si/3/data-mining-library/reference/data.variable.html#Orange.data.StringVariable\" target=\"_blank\" title=\"Orange.data.StringVariable\"><code>Orange.data.StringVariable</code></a>,</li>\n",
    "\t<li><code>time</code>&nbsp;(or&nbsp;<code>t</code>) &mdash; imported as&nbsp;<a href=\"https://docs.orange.biolab.si/3/data-mining-library/reference/data.variable.html#Orange.data.TimeVariable\" target=\"_blank\" title=\"Orange.data.TimeVariable\"><code>Orange.data.TimeVariable</code></a>, if the values parse as&nbsp;<a href=\"https://en.wikipedia.org/wiki/ISO_8601\" target=\"_blank\">ISO 8601</a>&nbsp;date/time formats,</li>\n",
    "\t<li><code>basket</code>&nbsp;&mdash; used for storing sparse data. More on basket formats in a dedicated section.</li>\n",
    "</ul>\n",
    "\n",
    "<p><big><strong>[3]. Flags</strong></big>&nbsp;(optional) on the third header line. Feature&rsquo;s flag can be empty, or it can contain, space-separated, a consistent combination of:</p>\n",
    "\n",
    "<ul>\n",
    "\t<li><code>class</code>&nbsp;(or&nbsp;<code>c</code>) &mdash; feature will be imported as a class variable. Most algorithms expect a single class variable.</li>\n",
    "\t<li><code>meta</code>&nbsp;(or&nbsp;<code>m</code>) &mdash; feature will be imported as a meta-attribute, just describing the data instance but not actually used for learning,</li>\n",
    "\t<li><code>weight</code>&nbsp;(or&nbsp;<code>w</code>) &mdash; the feature marks the weight of examples (in algorithms that support weighted examples),</li>\n",
    "\t<li><code>ignore</code>&nbsp;(or&nbsp;<code>i</code>) &mdash; feature will not be imported,</li>\n",
    "\t<li><code>&lt;key&gt;=&lt;value&gt;</code>&nbsp;custom attributes.</li>\n",
    "</ul>\n",
    "\n",
    "<p><img alt=\"\" src=\"images/Orange_Xls.png\" style=\"width: 550px ; height: 344px\" /></p>\n"
   ]
  },
  {
   "cell_type": "markdown",
   "metadata": {},
   "source": [
    "<h2 id=\"Contoh-di-Orange\">Contoh di Orange</h2>\n",
    "<ul>\n",
    "<li>Contoh diambil dari <a href=\"https://blog.biolab.si/2016/04/25/association-rules-in-orange/\" target=\"_blank\" rel=\"noopener\">https://blog.biolab.si/2016/04/25/association-rules-in-orange/</a></li>\n",
    "<li>Input Data : \"FoodMart 2000 Dataset\"</li>\n",
    "<li>Drag Node \"DataSet\"&nbsp; (Open) ==&gt; \"Send Data\"</li>\n",
    "<li>Drag Node \"Data\" ==&gt; Open/Send Automatically</li>\n",
    "<li>Drag Nodes Frequent ItemSets</li>\n",
    "<li>Drag Nodes Association Rules</li>\n",
    "</ul>\n",
    "\n",
    "<p><img alt=\"\" src=\"images/orange_mba.png\" /></p>"
   ]
  },
  {
   "cell_type": "code",
   "execution_count": null,
   "metadata": {},
   "outputs": [],
   "source": [
    "# Warning install \"mlxtend\" module first. Jalankan cell ini Hanya jika menggunakan Google Colaboratory:\n",
    "# Jika menggunakan Jupyter notebook secara lokal (e.g. Anaconda/WinPython) silahkan install lewat terminal (e.g. command prompt)\n",
    "!pip install mlxtend"
   ]
  },
  {
   "cell_type": "code",
   "execution_count": null,
   "metadata": {
    "ExecuteTime": {
     "end_time": "2019-09-30T02:35:09.585298Z",
     "start_time": "2019-09-30T02:35:09.572482Z"
    }
   },
   "outputs": [],
   "source": [
    "import warnings; warnings.simplefilter('ignore')\n",
    "import pandas as pd, matplotlib.pyplot as plt, seaborn as sns\n",
    "from itertools import combinations\n",
    "from collections import Counter\n",
    "from mlxtend.frequent_patterns import apriori\n",
    "from mlxtend.frequent_patterns import association_rules\n",
    "\n",
    "%matplotlib inline\n",
    "plt.style.use('bmh'); sns.set()"
   ]
  },
  {
   "cell_type": "code",
   "execution_count": null,
   "metadata": {
    "ExecuteTime": {
     "end_time": "2019-09-30T02:35:28.746020Z",
     "start_time": "2019-09-30T02:35:28.737986Z"
    }
   },
   "outputs": [],
   "source": [
    "# In Python\n",
    "T = [\n",
    " ('Bread', 'Milk'),\n",
    " ('Beer', 'Bread', 'Diaper', 'Eggs', 'Milk', 'Bread', 'Milk', 'Milk'),\n",
    " ('Beer', 'Coke', 'Diaper', 'Milk'),\n",
    " ('Beer', 'Bread', 'Diaper', 'Milk'),\n",
    " ('Bread', 'Coke', 'Diaper', 'Milk', 'Diaper'),\n",
    "]\n",
    "T"
   ]
  },
  {
   "cell_type": "code",
   "execution_count": null,
   "metadata": {
    "ExecuteTime": {
     "end_time": "2019-09-30T02:35:59.300528Z",
     "start_time": "2019-09-30T02:35:59.293532Z"
    }
   },
   "outputs": [],
   "source": [
    "# Calculating item sets\n",
    "# Nostalgia Matematika Diskrit :)\n",
    "def subsets(S, k):\n",
    "  return [set(s) for s in combinations(S, k)]\n",
    "\n",
    "subsets({1, 2, 3,7, 8}, 3)"
   ]
  },
  {
   "cell_type": "code",
   "execution_count": null,
   "metadata": {
    "ExecuteTime": {
     "end_time": "2019-09-30T02:36:17.181471Z",
     "start_time": "2019-09-30T02:36:17.175973Z"
    }
   },
   "outputs": [],
   "source": [
    "# Calculating support\n",
    "Counter(T[1])"
   ]
  },
  {
   "cell_type": "code",
   "execution_count": null,
   "metadata": {
    "ExecuteTime": {
     "end_time": "2019-09-30T02:38:24.412481Z",
     "start_time": "2019-09-30T02:36:41.858619Z"
    }
   },
   "outputs": [],
   "source": [
    "# Using Module\n",
    "# Taken from https://pbpython.com/market-basket-analysis.html\n",
    "# Pertama-tama load Data\n",
    "try:\n",
    "    df = pd.read_excel('data/Online_Retail.xlsx')\n",
    "except:\n",
    "    df = pd.read_excel('http://archive.ics.uci.edu/ml/machine-learning-databases/00352/Online%20Retail.xlsx')\n",
    "df.head()"
   ]
  },
  {
   "cell_type": "code",
   "execution_count": null,
   "metadata": {
    "ExecuteTime": {
     "end_time": "2019-09-30T02:51:36.927405Z",
     "start_time": "2019-09-30T02:51:35.087322Z"
    }
   },
   "outputs": [],
   "source": [
    "# Preprocessing\n",
    "df['Description'] = df['Description'].str.strip() # remove unnecessary spaces\n",
    "df['Description'] = df['Description'].str.lower() # lower case normalization\n",
    "df.dropna(axis=0, subset=['InvoiceNo'], inplace=True) # delete rows with no invoice no\n",
    "df['InvoiceNo'] = df['InvoiceNo'].astype('str') # Change data type\n",
    "df = df[~df['InvoiceNo'].str.contains('c')] # remove invoice with C in it\n",
    "df.head()"
   ]
  },
  {
   "cell_type": "code",
   "execution_count": null,
   "metadata": {
    "ExecuteTime": {
     "end_time": "2019-09-30T02:52:49.048421Z",
     "start_time": "2019-09-30T02:52:47.958092Z"
    }
   },
   "outputs": [],
   "source": [
    "filter = {'pls', 'plas'}\n",
    "for f in filter:\n",
    "    df = df[~df['InvoiceNo'].str.contains(f)] # remove invoice with C in it"
   ]
  },
  {
   "cell_type": "code",
   "execution_count": null,
   "metadata": {
    "ExecuteTime": {
     "end_time": "2019-09-30T02:53:16.132107Z",
     "start_time": "2019-09-30T02:53:16.125531Z"
    }
   },
   "outputs": [],
   "source": [
    "A = 'ty_pls_c234'\n",
    "\n",
    "A.find('pls')"
   ]
  },
  {
   "cell_type": "code",
   "execution_count": null,
   "metadata": {
    "ExecuteTime": {
     "end_time": "2019-09-30T01:03:39.666838Z",
     "start_time": "2019-09-30T01:03:39.596707Z"
    }
   },
   "outputs": [],
   "source": [
    "# Let's sample the data\n",
    "basket = (df[df['Country'] ==\"France\"])\n",
    "basket.head()"
   ]
  },
  {
   "cell_type": "code",
   "execution_count": null,
   "metadata": {
    "ExecuteTime": {
     "end_time": "2019-09-30T01:03:39.692431Z",
     "start_time": "2019-09-30T01:03:39.669826Z"
    }
   },
   "outputs": [],
   "source": [
    "# Group the transaction\n",
    "basket = basket.groupby(['InvoiceNo', 'Description'])['Quantity']\n",
    "basket.head()"
   ]
  },
  {
   "cell_type": "code",
   "execution_count": null,
   "metadata": {
    "ExecuteTime": {
     "end_time": "2019-09-30T01:03:39.876512Z",
     "start_time": "2019-09-30T01:03:39.694762Z"
    }
   },
   "outputs": [],
   "source": [
    "# Jumlahkan, unstack, Null=0, index baris menggunakan Nomer Invoice\n",
    "basket = basket.sum().unstack().reset_index().fillna(0).set_index('InvoiceNo')\n",
    "basket.head()"
   ]
  },
  {
   "cell_type": "code",
   "execution_count": null,
   "metadata": {
    "ExecuteTime": {
     "end_time": "2019-09-30T01:03:41.048871Z",
     "start_time": "2019-09-30T01:03:39.878267Z"
    }
   },
   "outputs": [],
   "source": [
    "def encode_units(x):\n",
    "    if x <= 0:\n",
    "        return 0\n",
    "    if x >= 1:\n",
    "        return 1\n",
    "\n",
    "basket_sets = basket.applymap(encode_units) # one-hot encoding\n",
    "basket_sets.head()"
   ]
  },
  {
   "cell_type": "markdown",
   "metadata": {},
   "source": [
    "# Understanding the Data Structure"
   ]
  },
  {
   "cell_type": "code",
   "execution_count": null,
   "metadata": {
    "ExecuteTime": {
     "end_time": "2019-09-30T01:03:41.057490Z",
     "start_time": "2019-09-30T01:03:41.051535Z"
    }
   },
   "outputs": [],
   "source": [
    "basket_sets.columns"
   ]
  },
  {
   "cell_type": "code",
   "execution_count": null,
   "metadata": {
    "ExecuteTime": {
     "end_time": "2019-09-30T01:03:41.070455Z",
     "start_time": "2019-09-30T01:03:41.060482Z"
    }
   },
   "outputs": [],
   "source": [
    "basket_sets.index"
   ]
  },
  {
   "cell_type": "code",
   "execution_count": null,
   "metadata": {
    "ExecuteTime": {
     "end_time": "2019-09-30T01:03:41.083430Z",
     "start_time": "2019-09-30T01:03:41.073448Z"
    }
   },
   "outputs": [],
   "source": [
    "basket_sets.iloc[0]"
   ]
  },
  {
   "cell_type": "code",
   "execution_count": null,
   "metadata": {
    "ExecuteTime": {
     "end_time": "2019-09-30T01:03:41.096387Z",
     "start_time": "2019-09-30T01:03:41.086442Z"
    }
   },
   "outputs": [],
   "source": [
    "basket_sets.iloc[0].sum()"
   ]
  },
  {
   "cell_type": "code",
   "execution_count": null,
   "metadata": {
    "ExecuteTime": {
     "end_time": "2019-09-30T02:43:21.993678Z",
     "start_time": "2019-09-30T02:43:21.957218Z"
    }
   },
   "outputs": [],
   "source": [
    "frequent_itemsets = apriori(basket_sets, min_support=0.07, use_colnames=True)\n",
    "frequent_itemsets.sort_values(by='support', ascending=False, na_position='last', inplace = True)\n",
    "frequent_itemsets"
   ]
  },
  {
   "cell_type": "code",
   "execution_count": null,
   "metadata": {
    "ExecuteTime": {
     "end_time": "2019-09-30T02:43:58.877639Z",
     "start_time": "2019-09-30T02:43:58.849320Z"
    }
   },
   "outputs": [],
   "source": [
    "rules = association_rules(frequent_itemsets, metric=\"lift\", min_threshold=1)\n",
    "rules.sort_values(by='lift', ascending=False, na_position='last', inplace = True)\n",
    "rules.head(10)"
   ]
  },
  {
   "cell_type": "code",
   "execution_count": null,
   "metadata": {
    "ExecuteTime": {
     "end_time": "2019-09-30T01:03:41.209086Z",
     "start_time": "2019-09-30T01:03:41.184153Z"
    }
   },
   "outputs": [],
   "source": [
    "# Filtering\n",
    "rules[ (rules['lift'] >= 6) & (rules['confidence'] >= 0.8) ]"
   ]
  },
  {
   "cell_type": "code",
   "execution_count": null,
   "metadata": {
    "ExecuteTime": {
     "end_time": "2019-09-30T01:03:41.223048Z",
     "start_time": "2019-09-30T01:03:41.216256Z"
    }
   },
   "outputs": [],
   "source": [
    "basket['postage'].sum()"
   ]
  },
  {
   "cell_type": "markdown",
   "metadata": {},
   "source": [
    "# End of Module Association Rule\n",
    "<hr>\n",
    "<p><img alt=\"\" src=\"images/10_recommendation_joke.jpg\" style=\"height:445px; width:455px\" /></p>\n"
   ]
  }
 ],
 "metadata": {
  "celltoolbar": "Slideshow",
  "kernelspec": {
   "display_name": "Python 3",
   "language": "python",
   "name": "python3"
  },
  "language_info": {
   "codemirror_mode": {
    "name": "ipython",
    "version": 3
   },
   "file_extension": ".py",
   "mimetype": "text/x-python",
   "name": "python",
   "nbconvert_exporter": "python",
   "pygments_lexer": "ipython3",
   "version": "3.6.8"
  },
  "latex_envs": {
   "LaTeX_envs_menu_present": true,
   "autoclose": false,
   "autocomplete": true,
   "bibliofile": "biblio.bib",
   "cite_by": "apalike",
   "current_citInitial": 1,
   "eqLabelWithNumbers": true,
   "eqNumInitial": 1,
   "hotkeys": {
    "equation": "Ctrl-E",
    "itemize": "Ctrl-I"
   },
   "labels_anchors": false,
   "latex_user_defs": false,
   "report_style_numbering": false,
   "user_envs_cfg": false
  }
 },
 "nbformat": 4,
 "nbformat_minor": 2
}
