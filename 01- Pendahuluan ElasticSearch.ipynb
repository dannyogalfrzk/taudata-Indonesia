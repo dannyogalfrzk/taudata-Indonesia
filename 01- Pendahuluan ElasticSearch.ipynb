{
 "cells": [
  {
   "cell_type": "markdown",
   "metadata": {
    "slideshow": {
     "slide_type": "slide"
    }
   },
   "source": [
    "<img alt=\"\" src=\"images/tau-data-Indonesia.png\" />\n",
    "<center><h2><strong><font color=\"blue\">Pendahuluan Basis Data untuk Data Science</font></strong></h2></center>\n",
    "<center><h3><strong><font color=\"blue\"><a href=\"https://tau-data.id/course/bdds/\"> https://tau-data.id/course/bdds/ </a></font></strong></h3></center>\n",
    "\n",
    "<img alt=\"\" src=\"images/cover.jpg\" />\n",
    "\n",
    "<center><h2><strong><font color=\"blue\">Pendahuluan Elasticsearch - 01</font></strong></h2></center>\n",
    "<center><h3><strong><font color=\"blue\"><a href=\"https://tau-data.id/lesson/pendahuluan-elasticsearch/\">https://tau-data.id/lesson/pendahuluan-elasticsearch/</a></font></strong></h3></center>\n",
    "<b><center><h3>(C) Taufik Sutanto</h3></center>"
   ]
  },
  {
   "cell_type": "markdown",
   "metadata": {
    "slideshow": {
     "slide_type": "slide"
    }
   },
   "source": [
    "# Outline\n",
    "\n",
    "1. Instalasi Java\n",
    "2. Instalasi Elasticsearch\n",
    "3. Configurasi Server Elasticsearch\n",
    "4. Instalasi Head Plugin\n",
    "5. Instalasi Python Modules\n",
    "6. Index & Mapping di Elasticsearch\n",
    "7. Importing Data\n",
    "8. Basic queries"
   ]
  },
  {
   "cell_type": "markdown",
   "metadata": {
    "slideshow": {
     "slide_type": "slide"
    }
   },
   "source": [
    "# Instalasi Java\n",
    "\n",
    "1. Unduh java **JDK 8** + Install \n",
    "2. Atur **Path** ke JDK binary executable\n",
    "3. **Test** instalasi\n",
    "4. Beberapa catatan kecil instalasi Java.\n",
    " - **JAVA_HOME**\n",
    " - Linux **OpenJDK**\n",
    " \n"
   ]
  },
  {
   "cell_type": "markdown",
   "metadata": {},
   "source": [
    "# Instalasi Elasticsearch\n",
    "\n",
    "1. Unduh **Elasticsearch** + Extract ke root (optional) \n",
    "2. **Rename** folder jika diinginkan (optional) \n",
    "3. Install Elasticsearch sebagai service:\n",
    "    - **C:\\elasticsearch\\bin\\elasticsearch-service install**\n",
    "4. Jalankan service: services.msc (di windows)\n",
    "    - Rubah sebagai Automatic run di startup jika diinginkan\n",
    "    - Tekan \"Start\"\n",
    "5. Instalasi plugin **head** di browser Chrome"
   ]
  },
  {
   "cell_type": "markdown",
   "metadata": {},
   "source": [
    "# instalasi python Module untuk Elastic search\n",
    "\n",
    "* Buka terminal (command prompt) lalu jalankan perintah\n",
    "* **pip install --upgrade elasticsearch**\n",
    "* import module elasticsearch dengan cara\n",
    "**import elasticsearch as es**"
   ]
  },
  {
   "cell_type": "code",
   "execution_count": 23,
   "metadata": {},
   "outputs": [],
   "source": [
    "from elasticsearch import Elasticsearch as Es\n",
    "\n"
   ]
  },
  {
   "cell_type": "code",
   "execution_count": 24,
   "metadata": {},
   "outputs": [
    {
     "name": "stdout",
     "output_type": "stream",
     "text": [
      "Connected to ElasticSearch, koneksi = \"conEs\"\n"
     ]
    }
   ],
   "source": [
    "server, port, timeout = 'localhost', 9200, 30 \n",
    "# local host = 172.27.0.1\n",
    "try:\n",
    "    conEs = Es( [ {'host':server,'port':port,'timeout':timeout} ] )\n",
    "    print('Connected to ElasticSearch, koneksi = \"conEs\"')\n",
    "except:\n",
    "    print('Error, tidak bisa terkoneksi ke ElasticSearch. Yakinkan server Es sudah berjalan dengan baik dan port serta ip server benar')"
   ]
  },
  {
   "cell_type": "code",
   "execution_count": 25,
   "metadata": {},
   "outputs": [],
   "source": [
    "# Berikutnya kita akan membuat index (~tabel di RDBMS) di Elastic\n",
    "# pertama-tama kita perlu parameter-parameter berikut\n",
    "idx = \"news20\"\n",
    "nShards = 1\n",
    "nReplicas = 0\n",
    "similarity = \"BM25\"\n",
    "# https://www.elastic.co/guide/en/elasticsearch/reference/current/index-modules-similarity.html"
   ]
  },
  {
   "cell_type": "code",
   "execution_count": 26,
   "metadata": {},
   "outputs": [
    {
     "name": "stdout",
     "output_type": "stream",
     "text": [
      "Done!\n"
     ]
    }
   ],
   "source": [
    "# Pertama tetapkan setting index\n",
    "dSetting = { \"settings\": {\"index\":{\"number_of_shards\":nShards,\"number_of_replicas\":nReplicas} } }\n",
    "# Yes!, ElasticSearch support Bahasa Indonesia\n",
    "# https://www.elastic.co/guide/en/elasticsearch/reference/current/analysis-lang-analyzer.html\n",
    "print('Done!')"
   ]
  },
  {
   "cell_type": "code",
   "execution_count": 27,
   "metadata": {},
   "outputs": [
    {
     "data": {
      "text/plain": [
       "{'acknowledged': True, 'shards_acknowledged': True, 'index': 'news20'}"
      ]
     },
     "execution_count": 27,
     "metadata": {},
     "output_type": "execute_result"
    }
   ],
   "source": [
    "# Lalu gunakan setting index di atas untuk membuat index baru di Elastic\n",
    "#conEs.indices.delete(index=idx,ignore=[400, 404]) # Hapus index kalau sudah ada / Mulai dari awal\n",
    "conEs.indices.create(index=idx,body=dSetting,ignore=400) # Buat Indexnya\n",
    "# Coba refresh plugin Head untuk memeriksa apakah index telah dibuat oleh Elastic"
   ]
  },
  {
   "cell_type": "code",
   "execution_count": 28,
   "metadata": {},
   "outputs": [],
   "source": [
    "import pickle \n",
    "\n",
    "try:\n",
    "    f = open('data/20_news_groups.pckl', 'rb')\n",
    "    data = pickle.load(f)\n",
    "    f.close()\n",
    "except:\n",
    "    categories = ['sci.med', 'talk.politics.misc',  'rec.autos'] # Silahkan modifikasi\n",
    "    data = fetch_20newsgroups(categories=categories,remove=('headers', 'footers', 'quotes'))\n",
    "    f = open('data/20_news_groups.pckl', 'wb') # Agar tidak selalu butuh koneksi internet setiap mau load data\n",
    "    pickle.dump(data, f) # perhatikan harus ada folder \"data\"\n",
    "    f.close()"
   ]
  },
  {
   "cell_type": "code",
   "execution_count": 31,
   "metadata": {},
   "outputs": [
    {
     "name": "stdout",
     "output_type": "stream",
     "text": [
      "Total dokumen = 1653\n",
      "{'sci.med', 'rec.autos', 'talk.politics.misc'} 1653\n",
      "I want to get a car alarm and I am thinking about getting an Ungo Box.\n",
      "    Does anyone out there have any knowledge or experience with any of\n",
      "    these alarms?  How about price ranges for the different models?\n",
      "    Are these good car alarms?  Please email me any responces.\n",
      "\n",
      "                cak3@ns3.lehigh.edu\n"
     ]
    }
   ],
   "source": [
    "kategori = [data.target_names[label] for label in data.target] \n",
    "documents = [doc for doc in data.data]\n",
    "print(\"Total dokumen = {}\".format(len(documents)))\n",
    "print(set(kategori), len(kategori))\n",
    "print(documents[0])"
   ]
  },
  {
   "cell_type": "code",
   "execution_count": 34,
   "metadata": {},
   "outputs": [
    {
     "name": "stdout",
     "output_type": "stream",
     "text": [
      "1 a\n",
      "2 b\n",
      "3 c\n"
     ]
    }
   ],
   "source": [
    "A = [1, 2, 3]\n",
    "B = ['a', 'b', 'c']\n",
    "\n",
    "for a,b in zip(A,B):\n",
    "    print(a,b)"
   ]
  },
  {
   "cell_type": "code",
   "execution_count": 35,
   "metadata": {},
   "outputs": [],
   "source": [
    "for doc, kat in zip(documents, kategori):\n",
    "    D = { \"document\":doc, \"kategori\":kat }\n",
    "    conEs.index(index=\"news20\", body=D)"
   ]
  },
  {
   "cell_type": "code",
   "execution_count": null,
   "metadata": {},
   "outputs": [],
   "source": []
  },
  {
   "cell_type": "code",
   "execution_count": 47,
   "metadata": {},
   "outputs": [
    {
     "data": {
      "text/plain": [
       "{'_index': 'news20',\n",
       " '_type': '_doc',\n",
       " '_id': 'O3ODeHIBzENlLH17Lu0Z',\n",
       " '_score': 17.153393,\n",
       " '_source': {'document': 'I was in the great storm.....my Mazda MPV was damaged so bad they are \\ngoing to replace the top, doors and hood. It is Black so they will repaint \\nthe entire vehicle...estimated cost around $7000 and repair time approx. 3 \\nto 4 weeks.\\n',\n",
       "  'kategori': 'rec.autos'}}"
      ]
     },
     "execution_count": 47,
     "metadata": {},
     "output_type": "execute_result"
    }
   ],
   "source": [
    "# Sampai sini sebenarnya kita sudah bisa melakukan pencarian, contoh:\n",
    "qry = 'mazda mpv'\n",
    "result = conEs.search(index=idx, body={\"query\": {\"match\": {'document':qry}}})['hits']['hits']\n",
    "result[0]"
   ]
  },
  {
   "cell_type": "code",
   "execution_count": 37,
   "metadata": {},
   "outputs": [
    {
     "data": {
      "text/plain": [
       "dict_keys(['took', 'timed_out', '_shards', 'hits'])"
      ]
     },
     "execution_count": 37,
     "metadata": {},
     "output_type": "execute_result"
    }
   ],
   "source": [
    "result.keys()"
   ]
  },
  {
   "cell_type": "code",
   "execution_count": 45,
   "metadata": {},
   "outputs": [
    {
     "data": {
      "text/plain": [
       "[{'_index': 'news20',\n",
       "  '_type': '_doc',\n",
       "  '_id': 'O3ODeHIBzENlLH17Lu0Z',\n",
       "  '_score': 17.153393,\n",
       "  '_source': {'document': 'I was in the great storm.....my Mazda MPV was damaged so bad they are \\ngoing to replace the top, doors and hood. It is Black so they will repaint \\nthe entire vehicle...estimated cost around $7000 and repair time approx. 3 \\nto 4 weeks.\\n',\n",
       "   'kategori': 'rec.autos'}},\n",
       " {'_index': 'news20',\n",
       "  '_type': '_doc',\n",
       "  '_id': 'X3ODeHIBzENlLH17YvLR',\n",
       "  '_score': 7.8345003,\n",
       "  '_source': {'document': 'Hi Netters\\n\\tI want to know if 13500 (w/o tax) is a good deal for 1993 Mazda 626 DX\\nHow is the performance review so far on Mazda 626. Is it a good buy?\\nPlease reply to me as I don\\'t read this group often.\\n\\nThanks In advance\\nRavi\\n--\\nRavi Kiran Puvvala\\t\\t| \"The purpose of education is not merely, \\nravi@merlin.dev.cdx.mot.com\\t|  the assimilation of facts but blow all \\nMotorola Codex, Boston  MA \\t|  the money\" - Ravi Puvvala',\n",
       "   'kategori': 'rec.autos'}},\n",
       " {'_index': 'news20',\n",
       "  '_type': '_doc',\n",
       "  '_id': '53ODeHIBzENlLH17VPCw',\n",
       "  '_score': 7.2012844,\n",
       "  '_source': {'document': \"For sale - Mazda 323\\n\\n\\t1986 Mazda 323\\n\\tWhite exterior, Grey interior.\\n\\t75,000 miles\\n\\tInterior in very good condition.\\n\\tExterior in good condition\\n\\n\\tPioneer DX 680 car stereo.\\n\\t\\t- CD player\\n\\t\\t- 18 FM presets, 6 AM\\n\\t\\t- removable faceplate\\n\\t\\t- seperate component speakers professionally mounted\\n\\t\\t  in the doors.\\n\\nThe car has been well maintained.  I wax it often and keep the interior\\nclean.  Its a good running car with a solid body (no rust thru, tiny\\nspots of surface rust.  When I see a spot I touch it up.)  The stereo\\nmakes the car.  I have had no mechanical problems with it.\\n\\nI'm looking for $900.00 firm.  The car has an average wholesale value of \\nabout $900.00 without the stereo.  The stereo cost me $500.00 last July.\\n\\nIf you are interested, call or Email me at:\",\n",
       "   'kategori': 'rec.autos'}}]"
      ]
     },
     "execution_count": 45,
     "metadata": {},
     "output_type": "execute_result"
    }
   ],
   "source": [
    "result['hits']['hits'][:3]"
   ]
  },
  {
   "cell_type": "code",
   "execution_count": null,
   "metadata": {},
   "outputs": [],
   "source": [
    "res = hasil_query['hits']\n",
    "type(res)"
   ]
  },
  {
   "cell_type": "code",
   "execution_count": null,
   "metadata": {},
   "outputs": [],
   "source": [
    "res.keys()"
   ]
  },
  {
   "cell_type": "code",
   "execution_count": null,
   "metadata": {},
   "outputs": [],
   "source": [
    "res = res"
   ]
  },
  {
   "cell_type": "code",
   "execution_count": null,
   "metadata": {},
   "outputs": [],
   "source": []
  },
  {
   "cell_type": "markdown",
   "metadata": {},
   "source": [
    "# End of Module"
   ]
  },
  {
   "cell_type": "code",
   "execution_count": null,
   "metadata": {},
   "outputs": [],
   "source": []
  },
  {
   "cell_type": "code",
   "execution_count": null,
   "metadata": {},
   "outputs": [],
   "source": []
  },
  {
   "cell_type": "code",
   "execution_count": null,
   "metadata": {
    "slideshow": {
     "slide_type": "slide"
    }
   },
   "outputs": [],
   "source": [
    "import warnings; warnings.simplefilter('ignore')\n",
    "from IPython.display import HTML\n",
    "\n",
    "HTML('<iframe width=\"560\" height=\"315\" src=\"https://www.youtube.com/embed/S_f2qV2_U00?rel=0&amp;controls=0&amp;showinfo=0\" frameborder=\"0\" allowfullscreen></iframe>')"
   ]
  },
  {
   "cell_type": "code",
   "execution_count": null,
   "metadata": {},
   "outputs": [],
   "source": []
  }
 ],
 "metadata": {
  "celltoolbar": "Slideshow",
  "kernelspec": {
   "display_name": "Python 3",
   "language": "python",
   "name": "python3"
  },
  "language_info": {
   "codemirror_mode": {
    "name": "ipython",
    "version": 3
   },
   "file_extension": ".py",
   "mimetype": "text/x-python",
   "name": "python",
   "nbconvert_exporter": "python",
   "pygments_lexer": "ipython3",
   "version": "3.6.8"
  }
 },
 "nbformat": 4,
 "nbformat_minor": 2
}
